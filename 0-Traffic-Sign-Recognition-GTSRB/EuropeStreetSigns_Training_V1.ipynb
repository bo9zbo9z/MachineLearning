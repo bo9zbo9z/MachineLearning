{
 "cells": [
  {
   "cell_type": "markdown",
   "metadata": {
    "colab_type": "text",
    "id": "rl85J9Iqh4yQ"
   },
   "source": [
    "## Europe Street Signs Classification\n",
    "\n",
    "This is another beginning level notebook.  The images can be greyscale because street signs must be recognized by someone that is color blind.  There are many different ways to load the data, I used the source, but if you do a Google search on “GTSRB Data” you will see other options.\n",
    "\n",
    "The GTSRB database images are in .ppg format – TensorFlow does not natively handle that format, so we need to read them into an array using another library, like CV2 or PIL.\n",
    "\n",
    "The first time I attempted training GTSRB, I did have a major learning experience around understanding the problem and applying augmentations.  \n",
    "\n",
    "Normally, you can rotate or flip training images, so my first time I used these but obtained very bad results.  Why?  If you rotate many of the street signs, it changes the label.  For example, a \"right turn\" sign flipped starts to look like a \"left turn\" sign, etc.   My lesson was that you always need to look at the augmented images to make sure nothing unexpected was introduced.  You can add things like zoom, blur and crop.  Just make sure to keep the original orientation of the image.\n",
    "\n",
    "The results after 5 EPOCS are in the 90%'s, if you run it longer it will start to overfit and you will need to add some augmentations to the training set.  If you want to add augmentations, it would be easier to use a Keras generator to load and then apply augmentations.\n",
    "\n",
    "In real-world usage, you would want a much higher accuracy - self-driving cars need to understand street signs!\n",
    "\n",
    "I just loaded the np arrays for training, if you want to use datasets, look at the bottom where I create a dataset for validation, \"val_dataset\".\n",
    "\n",
    "Accuracy : 0.9387755102040817\n",
    "\n",
    "Classification Report\n",
    "              precision    recall  f1-score   support\n",
    "\n",
    "           0    1.00000   0.92857   0.96296        42\n",
    "           1    0.99747   0.88964   0.94048       444\n",
    "           2    0.99528   0.93778   0.96568       450\n",
    "           3    0.98268   0.80496   0.88499       282\n",
    "           4    0.93932   0.97727   0.95792       396\n",
    "           5    0.73523   0.97043   0.83662       372\n",
    "           6    1.00000   0.88095   0.93671        84\n",
    "           7    0.71684   0.97569   0.82647       288\n",
    "           8    0.99441   0.63121   0.77223       282\n",
    "           9    0.82353   1.00000   0.90323       294\n",
    "          10    0.95012   0.99751   0.97324       401\n",
    "          11    0.98851   0.97727   0.98286       264\n",
    "          12    0.96028   0.97857   0.96934       420\n",
    "          13    0.97738   1.00000   0.98856       432\n",
    "          14    1.00000   1.00000   1.00000       156\n",
    "          15    1.00000   0.97619   0.98795       126\n",
    "          16    0.96386   0.95238   0.95808        84\n",
    "          17    0.98661   0.99550   0.99103       222\n",
    "          18    0.95582   0.99167   0.97342       240\n",
    "          19    0.97222   0.83333   0.89744        42\n",
    "          20    1.00000   0.77778   0.87500        72\n",
    "          21    0.86842   1.00000   0.92958        66\n",
    "          22    1.00000   0.98718   0.99355        78\n",
    "          23    0.83607   1.00000   0.91071       102\n",
    "          24    1.00000   0.77778   0.87500        54\n",
    "          25    1.00000   0.93667   0.96730       300\n",
    "          26    0.98198   0.90833   0.94372       120\n",
    "          27    1.00000   0.93750   0.96774        48\n",
    "          28    1.00000   0.87037   0.93069       108\n",
    "          29    1.00000   0.57407   0.72941        54\n",
    "          30    0.75221   0.94444   0.83744        90\n",
    "          31    0.97403   0.96154   0.96774       156\n",
    "          32    1.00000   0.89583   0.94505        48\n",
    "          33    1.00000   0.93478   0.96629       138\n",
    "          34    0.98824   1.00000   0.99408        84\n",
    "          35    1.00000   0.97490   0.98729       239\n",
    "          36    0.98701   0.97436   0.98065        78\n",
    "          37    0.97436   0.90476   0.93827        42\n",
    "          38    0.99496   0.95411   0.97411       414\n",
    "          39    1.00000   0.98333   0.99160        60\n",
    "          40    0.98333   0.81944   0.89394        72\n",
    "          41    0.96000   1.00000   0.97959        48\n",
    "          42    0.95833   0.95833   0.95833        48\n"
   ]
  },
  {
   "cell_type": "code",
   "execution_count": null,
   "metadata": {
    "colab": {
     "base_uri": "https://localhost:8080/",
     "height": 139
    },
    "colab_type": "code",
    "id": "xjJySeIXh_md",
    "outputId": "694c1e14-856a-4979-a271-3c45613951bf"
   },
   "outputs": [],
   "source": [
    "#\"\"\"\n",
    "# Google Collab specific stuff....\n",
    "from google.colab import drive\n",
    "drive.mount('/content/drive')\n",
    "\n",
    "import os\n",
    "!ls \"/content/drive/My Drive\"\n",
    "\n",
    "USING_COLLAB = True\n",
    "%tensorflow_version 2.x\n",
    "#\"\"\""
   ]
  },
  {
   "cell_type": "code",
   "execution_count": null,
   "metadata": {
    "colab": {
     "base_uri": "https://localhost:8080/",
     "height": 71
    },
    "colab_type": "code",
    "id": "6w1an-l5h4yT",
    "outputId": "b99a3745-24d0-4128-e083-f08f299d1e4b"
   },
   "outputs": [],
   "source": [
    "# Setup sys.path to find MachineLearning lib directory\n",
    "\n",
    "try: USING_COLLAB\n",
    "except NameError: USING_COLLAB = False\n",
    "\n",
    "%load_ext autoreload\n",
    "%autoreload 2\n",
    "\n",
    "import sys\n",
    "if \"MachineLearning\" in sys.path[0]:\n",
    "    pass\n",
    "else:\n",
    "    print(sys.path)\n",
    "    if USING_COLLAB:\n",
    "        sys.path.insert(0, '/content/drive/My Drive/GitHub/MachineLearning/lib')  ###### CHANGE FOR SPECIFIC ENVIRONMENT\n",
    "    else:\n",
    "        sys.path.insert(0, '/Users/john/Documents/GitHub/MachineLearning/lib')  ###### CHANGE FOR SPECIFIC ENVIRONMENT\n",
    "    \n",
    "    print(sys.path)"
   ]
  },
  {
   "cell_type": "code",
   "execution_count": 3,
   "metadata": {
    "colab": {
     "base_uri": "https://localhost:8080/",
     "height": 51
    },
    "colab_type": "code",
    "id": "csTt9CUvh4yZ",
    "outputId": "6713a830-f703-47b9-fa3d-07751f867032"
   },
   "outputs": [
    {
     "name": "stdout",
     "output_type": "stream",
     "text": [
      "2.2.0\n",
      "AUTOTUNE:  -1\n"
     ]
    }
   ],
   "source": [
    "from __future__ import absolute_import, division, print_function, unicode_literals\n",
    "\n",
    "import os, sys, random, warnings, time, copy, csv, gc\n",
    "import numpy as np \n",
    "\n",
    "import IPython.display as display\n",
    "from PIL import Image\n",
    "\n",
    "import matplotlib.pyplot as plt\n",
    "%matplotlib inline\n",
    "\n",
    "import cv2\n",
    "from tqdm import tqdm_notebook, tnrange, tqdm\n",
    "import pandas as pd\n",
    "from sklearn.utils import shuffle\n",
    "import glob \n",
    "\n",
    "from sklearn.model_selection import train_test_split\n",
    "from skimage.color import rgb2grey\n",
    "\n",
    "import tensorflow as tf\n",
    "print(tf.__version__)\n",
    "\n",
    "import tensorflow_datasets as tfds\n",
    "\n",
    "AUTOTUNE = tf.data.experimental.AUTOTUNE\n",
    "print(\"AUTOTUNE: \", AUTOTUNE)\n",
    "\n",
    "from TrainingUtils import *\n",
    "\n",
    "#warnings.filterwarnings(\"ignore\", category=DeprecationWarning)\n",
    "#warnings.filterwarnings(\"ignore\", category=UserWarning)\n",
    "warnings.filterwarnings(\"ignore\", \"(Possibly )?corrupt EXIF data\", UserWarning)"
   ]
  },
  {
   "cell_type": "markdown",
   "metadata": {
    "colab_type": "text",
    "id": "aplx71Xjh4yg"
   },
   "source": [
    "## Examine and understand data\n"
   ]
  },
  {
   "cell_type": "code",
   "execution_count": null,
   "metadata": {
    "colab": {
     "base_uri": "https://localhost:8080/",
     "height": 54
    },
    "colab_type": "code",
    "id": "PMdwqph-h4yd",
    "outputId": "48012c1b-0b9f-4b6a-ea45-f45ef121d7b0"
   },
   "outputs": [],
   "source": [
    "# GLOBALS/CONFIG ITEMS\n",
    "\n",
    "# Set root directory path to data\n",
    "if USING_COLLAB:\n",
    "    ROOT_PATH = \"/content/drive/My Drive/ImageData/StreetSigns\"  ###### CHANGE FOR SPECIFIC ENVIRONMENT\n",
    "else:\n",
    "    ROOT_PATH = \"/Users/john/Documents/ImageData/StreetSigns\"  ###### CHANGE FOR SPECIFIC ENVIRONMENT\n",
    "        \n",
    "# Establish global dictionary\n",
    "parms = GlobalParms(MODEL_NAME=\"model-StreetSigns-V02.h5\",\n",
    "                    ROOT_PATH=ROOT_PATH,\n",
    "                    TRAIN_PATH=\"/GTSRB/Final_Training/Images\", \n",
    "                    SMALL_RUN=False,\n",
    "                    NUM_CLASSES=43,\n",
    "                    CLASS_NAMES=[str(n) for n in list(range(43))],\n",
    "                    IMAGE_ROWS=32,\n",
    "                    IMAGE_COLS=32,\n",
    "                    IMAGE_CHANNELS=1,\n",
    "                    EPOCS=5, \n",
    "                    BATCH_SIZE=32,\n",
    "                    IMAGE_EXT=\".ppm\",\n",
    "                    FINAL_ACTIVATION='softmax',\n",
    "                    LOSS='categorical_crossentropy',\n",
    "                    METRICS=['accuracy'])\n",
    "\n",
    "parms.print_contents()"
   ]
  },
  {
   "cell_type": "code",
   "execution_count": 0,
   "metadata": {
    "colab": {},
    "colab_type": "code",
    "id": "2mhhvmqN7aFa"
   },
   "outputs": [],
   "source": [
    "# Simple helper method to display batches of images with labels....        \n",
    "def show_batch(image_batch, label_batch, number_to_show=25, r=5, c=5, print_shape=False):\n",
    "    show_number = min(number_to_show, parms.BATCH_SIZE)\n",
    "\n",
    "    if show_number < 8: #if small number, then change row, col and figure size\n",
    "        if parms.IMAGE_COLS > 64 or parms.IMAGE_ROWS > 64:\n",
    "            plt.figure(figsize=(25,25)) \n",
    "        else:\n",
    "            plt.figure(figsize=(10,10))  \n",
    "        r = 4\n",
    "        c = 2 \n",
    "    else:\n",
    "        plt.figure(figsize=(10,10))  \n",
    "\n",
    "    if show_number == 1:\n",
    "        image_batch = np.expand_dims(image_batch, axis=0)\n",
    "        label_batch = np.expand_dims(label_batch, axis=0)\n",
    "\n",
    "    for n in range(show_number):\n",
    "        if print_shape:\n",
    "            print(\"Image shape: {}  Max: {}  Min: {}\".format(image_batch[n].shape, np.max(image_batch[n]), np.min(image_batch[n])))\n",
    "        ax = plt.subplot(r,c,n+1)\n",
    "        cmap=\"gray\"\n",
    "        if len(image_batch[n].shape) == 3:\n",
    "            if image_batch[n].shape[2] == 3:\n",
    "                cmap=\"viridis\"\n",
    "        plt.imshow(tf.keras.preprocessing.image.array_to_img(image_batch[n]), cmap=plt.get_cmap(cmap))\n",
    "        plt.title(parms.CLASS_NAMES[np.argmax(label_batch[n])])\n",
    "        plt.axis('off')"
   ]
  },
  {
   "cell_type": "code",
   "execution_count": 6,
   "metadata": {
    "colab": {
     "base_uri": "https://localhost:8080/",
     "height": 51
    },
    "colab_type": "code",
    "id": "k7y4RoOp1XBV",
    "outputId": "31214336-c886-4461-a785-9363ab8e9986"
   },
   "outputs": [
    {
     "name": "stdout",
     "output_type": "stream",
     "text": [
      "Starting download...\n",
      "Finished download...\n"
     ]
    }
   ],
   "source": [
    "# Download dataset to local VM\n",
    "import urllib.request\n",
    "\n",
    "print('Starting download...')\n",
    "url = 'https://sid.erda.dk/public/archives/daaeac0d7ce1152aea9b61d9f1e19370/GTSRB_Final_Training_Images.zip'\n",
    "urllib.request.urlretrieve(url, './GTSRB_Final_Training_Images.zip')\n",
    "print('Finished download...')\n",
    "\n"
   ]
  },
  {
   "cell_type": "code",
   "execution_count": 7,
   "metadata": {
    "colab": {
     "base_uri": "https://localhost:8080/",
     "height": 51
    },
    "colab_type": "code",
    "id": "s535yIeQ1XMX",
    "outputId": "49913444-1652-413d-9540-0d1fe57c5107"
   },
   "outputs": [
    {
     "name": "stdout",
     "output_type": "stream",
     "text": [
      "drive  GTSRB_Final_Training_Images.zip\tsample_data\n",
      "drive  GTSRB  GTSRB_Final_Training_Images.zip  sample_data\n"
     ]
    }
   ],
   "source": [
    "!ls\n",
    "!unzip -q GTSRB_Final_Training_Images.zip\n",
    "!ls\n",
    "\n"
   ]
  },
  {
   "cell_type": "code",
   "execution_count": 0,
   "metadata": {
    "colab": {},
    "colab_type": "code",
    "id": "nwg0c5wN2B8t"
   },
   "outputs": [],
   "source": [
    "!ls GTSRB/Final_Training/Images/"
   ]
  },
  {
   "cell_type": "code",
   "execution_count": null,
   "metadata": {
    "colab": {
     "base_uri": "https://localhost:8080/",
     "height": 748
    },
    "colab_type": "code",
    "id": "QUE-lImIvhqU",
    "outputId": "62222d2c-910e-4b79-e700-492ae626f1c5"
   },
   "outputs": [],
   "source": [
    "# path to the images\n",
    "images = []\n",
    "image_labels = []\n",
    " \n",
    "# get the image paths\n",
    "for i in range(parms.NUM_CLASSES):\n",
    "    image_label_path = parms.TRAIN_PATH + '/' + format(i, '05d') + '/*'+ parms.IMAGE_EXT\n",
    "    print(\"Loading...\", image_label_path)\n",
    "    for image_path in glob.glob(image_label_path):\n",
    "        image = cv2.imread(image_path)\n",
    "        image = rgb2grey(image)\n",
    "        image = (image / 255.0) # rescale\n",
    "        image = cv2.resize(image, (parms.IMAGE_ROWS, parms.IMAGE_COLS))\n",
    "        images.append(image)\n",
    "        \n",
    "        # create one-hot labels\n",
    "        labels = np.zeros((parms.NUM_CLASSES, ), dtype=np.float32)\n",
    "        labels[i] = 1.0\n",
    "        image_labels.append(labels)\n",
    "\n",
    "# Add extra axis and return np array\n",
    "images = np.stack([img[:, :, np.newaxis] for img in images], axis=0).astype(parms.IMAGE_DTYPE)\n",
    "image_labels = np.matrix(image_labels).astype(parms.IMAGE_DTYPE)"
   ]
  },
  {
   "cell_type": "code",
   "execution_count": 0,
   "metadata": {
    "colab": {},
    "colab_type": "code",
    "id": "cPDWRuRRwLYC"
   },
   "outputs": [],
   "source": [
    "# divide the data into train and test set\n",
    "(train_X, val_X, train_y, val_y) = train_test_split(images, image_labels, \n",
    "                                                      test_size=0.2, \n",
    "                                                      stratify=image_labels,\n",
    "                                                      random_state=20)\n",
    "print(train_X.shape, train_y.shape)\n",
    "print(val_X.shape, val_y.shape)"
   ]
  },
  {
   "cell_type": "markdown",
   "metadata": {
    "colab_type": "text",
    "id": "WboW5rmAh4yv"
   },
   "source": [
    "## Build  model\n",
    "- add and validate pretrained model as a baseline"
   ]
  },
  {
   "cell_type": "code",
   "execution_count": 0,
   "metadata": {
    "colab": {},
    "colab_type": "code",
    "id": "N2mBKnREBZSU"
   },
   "outputs": [],
   "source": [
    "# Create any call backs for training...These are the most common.\n",
    "\n",
    "from tensorflow.keras.callbacks import EarlyStopping, ModelCheckpoint, ReduceLROnPlateau, CSVLogger\n",
    "\n",
    "reduce_lr = ReduceLROnPlateau(monitor='loss', patience=2, verbose=1, min_lr=1e-6)\n",
    "earlystopper = EarlyStopping(patience=8, verbose=1)\n",
    "checkpointer = ModelCheckpoint(parms.MODEL_PATH, monitor='val_loss', verbose=1, mode=\"auto\", save_best_only=True)\n"
   ]
  },
  {
   "cell_type": "code",
   "execution_count": 0,
   "metadata": {
    "colab": {},
    "colab_type": "code",
    "id": "sde1k5Nc6X1Z"
   },
   "outputs": [],
   "source": [
    "# Create model and compile it\n",
    "\n",
    "from tensorflow.keras.models import Sequential, load_model, Model\n",
    "from tensorflow.keras.layers import Dense, Dropout, Flatten, Input, Conv2D, MaxPooling2D, BatchNormalization, UpSampling2D, Conv2DTranspose, Concatenate, Activation\n",
    "from tensorflow.keras.losses import binary_crossentropy, categorical_crossentropy\n",
    "from tensorflow.keras.optimizers import Adadelta, Adam, Nadam, SGD\n",
    "########\n",
    "\n",
    "def predict_image(model_passed, image):   \n",
    "    image = np.expand_dims(image, axis=0)\n",
    "    predictions = model_passed.predict(image)\n",
    "    return predictions \n",
    "\n",
    "\n",
    "def build_model(parms):\n",
    "    # initialize the model\n",
    "    model = Sequential()\n",
    "    model.add(Conv2D(32, (5, 5), padding='same', activation='relu', input_shape=parms.IMAGE_DIM))\n",
    "    model.add(BatchNormalization(axis=-1))      \n",
    "    model.add(MaxPooling2D(pool_size=(2, 2)))\n",
    "    model.add(Dropout(0.2))\n",
    "            \n",
    "    model.add(Conv2D(64, (5, 5), padding='same', activation='relu'))\n",
    "    model.add(BatchNormalization(axis=-1))\n",
    "    model.add(Conv2D(128, (5, 5), padding='same', activation='relu'))\n",
    "    model.add(BatchNormalization(axis=-1))\n",
    "    model.add(MaxPooling2D(pool_size=(2, 2)))\n",
    "    model.add(Dropout(0.2))\n",
    "    \n",
    "    model.add(Flatten())\n",
    "    model.add(Dense(512, activation='relu'))\n",
    "    model.add(BatchNormalization())\n",
    "    model.add(Dropout(0.4))\n",
    "    \n",
    "    model.add(Dense(parms.NUM_CLASSES, activation=parms.FINAL_ACTIVATION)) \n",
    "\n",
    "    return model\n",
    "\n",
    "def compile_model(parms, model):\n",
    "    # Optimizers: https://ruder.io/optimizing-gradient-descent/index.html#gradientdescentoptimizationalgorithms\n",
    "    model.compile(loss=parms.LOSS,\n",
    "          #optimizer=SGD(lr=0.001, momentum=0.9),\n",
    "          optimizer=Adam(lr=0.001),\n",
    "          #optimizer=\"rmsprop\",\n",
    "          metrics=parms.METRICS)\n",
    "    return model\n"
   ]
  },
  {
   "cell_type": "markdown",
   "metadata": {
    "colab_type": "text",
    "id": "UHJP9A8_lLnr"
   },
   "source": [
    "## Train model"
   ]
  },
  {
   "cell_type": "code",
   "execution_count": 0,
   "metadata": {
    "colab": {},
    "colab_type": "code",
    "id": "P_AE9vRvh4y8",
    "scrolled": true
   },
   "outputs": [],
   "source": [
    "# Train model\n",
    "\n",
    "model = build_model(parms)\n",
    "model = compile_model(parms, model)\n",
    "history = model.fit(train_X, train_y, \n",
    "                    validation_data=(val_X, val_y),\n",
    "                    epochs=parms.EPOCS, \n",
    "                    callbacks=[reduce_lr, earlystopper, checkpointer] # include any callbacks...\n",
    "                    )"
   ]
  },
  {
   "cell_type": "code",
   "execution_count": 0,
   "metadata": {
    "colab": {},
    "colab_type": "code",
    "id": "btOfnuWEh4y_"
   },
   "outputs": [],
   "source": [
    "# Plot the training history\n",
    "history_df = pd.DataFrame(history.history)\n",
    "plt.figure()\n",
    "history_df[['loss', 'val_loss']].plot(title=\"Loss\")\n",
    "plt.xlabel('Epocs')\n",
    "plt.ylabel('Loss')\n",
    "history_df[['accuracy', 'val_accuracy']].plot(title=\"Accuracy\")\n",
    "plt.xlabel('Epocs')\n",
    "plt.ylabel('Accuracy')\n",
    "plt.show()"
   ]
  },
  {
   "cell_type": "markdown",
   "metadata": {
    "colab_type": "text",
    "id": "COki5lZ0h4zG"
   },
   "source": [
    "## Validate model's predictions\n",
    "- Create actual_lables and predict_labels\n",
    "- Calculate Confusion Matrix & Accuracy\n",
    "- Display results\n"
   ]
  },
  {
   "cell_type": "code",
   "execution_count": 35,
   "metadata": {
    "colab": {
     "base_uri": "https://localhost:8080/",
     "height": 34
    },
    "colab_type": "code",
    "id": "tkrhk6FOh4zC",
    "outputId": "d22cc0ce-7b17-48d2-fe73-77b91c8f2dd1"
   },
   "outputs": [
    {
     "name": "stdout",
     "output_type": "stream",
     "text": [
      "loaded:  /content/drive/My Drive/ImageData/StreetSigns/model-StreetSigns-V02.h5\n"
     ]
    }
   ],
   "source": [
    "#Load saved model\n",
    "from tensorflow.keras.models import load_model \n",
    "def load_saved_model(model_path):\n",
    "    model = load_model(model_path)\n",
    "    print(\"loaded: \", model_path)\n",
    "    return model\n",
    "\n",
    "model = load_saved_model(parms.MODEL_PATH)"
   ]
  },
  {
   "cell_type": "code",
   "execution_count": 0,
   "metadata": {
    "colab": {},
    "colab_type": "code",
    "id": "X2C4TVcTPWik"
   },
   "outputs": [],
   "source": [
    "validation_steps = np.ceil(len(val_X) // parms.BATCH_SIZE) # set step sizes based on val & batch\n",
    "val_dataset = tf.data.Dataset.from_tensor_slices((val_X, val_y))\n",
    "val_dataset = val_dataset.repeat().batch(parms.BATCH_SIZE)\n",
    "print(\"Validation steps: \", validation_steps)"
   ]
  },
  {
   "cell_type": "code",
   "execution_count": 40,
   "metadata": {
    "colab": {
     "base_uri": "https://localhost:8080/",
     "height": 68
    },
    "colab_type": "code",
    "id": "4T-oypFsh4zM",
    "outputId": "9eb1cc50-0037-4796-a691-c9e125612208"
   },
   "outputs": [
    {
     "name": "stderr",
     "output_type": "stream",
     "text": [
      "245it [04:28,  1.09s/it]"
     ]
    },
    {
     "name": "stdout",
     "output_type": "stream",
     "text": [
      " \n",
      "total:  7840   Good:  7360.0   Bad:  480.0   percent good:  0.9387755102040817\n"
     ]
    },
    {
     "name": "stderr",
     "output_type": "stream",
     "text": [
      "\n"
     ]
    }
   ],
   "source": [
    "# Use model to generate predicted labels and probabilities\n",
    "labels, predict_labels, predict_probabilities, bad_results = predictions_using_dataset(model, val_dataset, validation_steps, parms.BATCH_SIZE, create_bad_results_list=False)\n",
    "#labels, predict_labels, predict_probabilities, bad_results = predictions_using_dataset(model, val_dataset, 1, parms.BATCH_SIZE, create_bad_results_list=False)\n"
   ]
  },
  {
   "cell_type": "code",
   "execution_count": 41,
   "metadata": {
    "colab": {
     "base_uri": "https://localhost:8080/",
     "height": 918
    },
    "colab_type": "code",
    "id": "_IurHe_Uh4zO",
    "outputId": "b847296e-1121-47c1-b05c-5d7e101bf104"
   },
   "outputs": [
    {
     "name": "stdout",
     "output_type": "stream",
     "text": [
      "Accuracy : 0.9387755102040817\n",
      "\n",
      "Classification Report\n",
      "              precision    recall  f1-score   support\n",
      "\n",
      "           0    1.00000   0.92857   0.96296        42\n",
      "           1    0.99747   0.88964   0.94048       444\n",
      "           2    0.99528   0.93778   0.96568       450\n",
      "           3    0.98268   0.80496   0.88499       282\n",
      "           4    0.93932   0.97727   0.95792       396\n",
      "           5    0.73523   0.97043   0.83662       372\n",
      "           6    1.00000   0.88095   0.93671        84\n",
      "           7    0.71684   0.97569   0.82647       288\n",
      "           8    0.99441   0.63121   0.77223       282\n",
      "           9    0.82353   1.00000   0.90323       294\n",
      "          10    0.95012   0.99751   0.97324       401\n",
      "          11    0.98851   0.97727   0.98286       264\n",
      "          12    0.96028   0.97857   0.96934       420\n",
      "          13    0.97738   1.00000   0.98856       432\n",
      "          14    1.00000   1.00000   1.00000       156\n",
      "          15    1.00000   0.97619   0.98795       126\n",
      "          16    0.96386   0.95238   0.95808        84\n",
      "          17    0.98661   0.99550   0.99103       222\n",
      "          18    0.95582   0.99167   0.97342       240\n",
      "          19    0.97222   0.83333   0.89744        42\n",
      "          20    1.00000   0.77778   0.87500        72\n",
      "          21    0.86842   1.00000   0.92958        66\n",
      "          22    1.00000   0.98718   0.99355        78\n",
      "          23    0.83607   1.00000   0.91071       102\n",
      "          24    1.00000   0.77778   0.87500        54\n",
      "          25    1.00000   0.93667   0.96730       300\n",
      "          26    0.98198   0.90833   0.94372       120\n",
      "          27    1.00000   0.93750   0.96774        48\n",
      "          28    1.00000   0.87037   0.93069       108\n",
      "          29    1.00000   0.57407   0.72941        54\n",
      "          30    0.75221   0.94444   0.83744        90\n",
      "          31    0.97403   0.96154   0.96774       156\n",
      "          32    1.00000   0.89583   0.94505        48\n",
      "          33    1.00000   0.93478   0.96629       138\n",
      "          34    0.98824   1.00000   0.99408        84\n",
      "          35    1.00000   0.97490   0.98729       239\n",
      "          36    0.98701   0.97436   0.98065        78\n",
      "          37    0.97436   0.90476   0.93827        42\n",
      "          38    0.99496   0.95411   0.97411       414\n",
      "          39    1.00000   0.98333   0.99160        60\n",
      "          40    0.98333   0.81944   0.89394        72\n",
      "          41    0.96000   1.00000   0.97959        48\n",
      "          42    0.95833   0.95833   0.95833        48\n",
      "\n",
      "    accuracy                        0.93878      7840\n",
      "   macro avg    0.95810   0.92499   0.93596      7840\n",
      "weighted avg    0.94935   0.93878   0.93894      7840\n",
      "\n"
     ]
    }
   ],
   "source": [
    "show_confusion_matrix(labels, predict_labels, parms.CLASS_NAMES, show_graph=False)"
   ]
  },
  {
   "cell_type": "code",
   "execution_count": 48,
   "metadata": {
    "colab": {
     "base_uri": "https://localhost:8080/",
     "height": 596
    },
    "colab_type": "code",
    "id": "gdAXk58Zh4zR",
    "outputId": "b1f7e3fa-5172-4d37-9f2c-13fe8d40e294"
   },
   "outputs": [
    {
     "name": "stdout",
     "output_type": "stream",
     "text": [
      "total:  7840   Good:  7360.0   Bad:  480.0   percent good:  0.9387755102040817\n"
     ]
    },
    {
     "data": {
      "image/png": "[encoded data removed]",
      "text/plain": [
       "<Figure size 1296x288 with 1 Axes>"
      ]
     },
     "metadata": {
      "needs_background": "light",
      "tags": []
     },
     "output_type": "display_data"
    },
    {
     "data": {
      "image/png": "[encoded data removed]",
      "text/plain": [
       "<Figure size 1296x288 with 1 Axes>"
      ]
     },
     "metadata": {
      "needs_background": "light",
      "tags": []
     },
     "output_type": "display_data"
    }
   ],
   "source": [
    "# Graph the results\n",
    "display_prediction_results(labels, predict_labels, predict_probabilities, parms.NUM_CLASSES, parms.CLASS_NAMES)\n"
   ]
  }
 ],
 "metadata": {
  "colab": {
   "collapsed_sections": [],
   "name": "EuropeStreetSigns-Training-V1.ipynb",
   "provenance": []
  },
  "kernelspec": {
   "display_name": "Python 3",
   "language": "python",
   "name": "python3"
  },
  "language_info": {
   "codemirror_mode": {
    "name": "ipython",
    "version": 3
   },
   "file_extension": ".py",
   "mimetype": "text/x-python",
   "name": "python",
   "nbconvert_exporter": "python",
   "pygments_lexer": "ipython3",
   "version": "3.6.3"
  }
 },
 "nbformat": 4,
 "nbformat_minor": 1
}
